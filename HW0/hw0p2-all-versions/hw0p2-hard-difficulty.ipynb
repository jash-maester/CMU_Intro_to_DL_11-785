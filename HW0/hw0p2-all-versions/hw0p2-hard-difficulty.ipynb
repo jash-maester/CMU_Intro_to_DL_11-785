{
 "cells": [
  {
   "cell_type": "markdown",
   "metadata": {},
   "source": [
    "## Homework 0 Part 2: Data Loaders\n",
    "\n",
    "In this assignment, you will be provided with data and an expected result. Your task is to fill out the starter code to obtain the expected result. Do not modify the data (X or Y), and do not modify the instantiation of the dataset or dataloader.\n",
    "\n",
    "All three versions -- easy difficulty, medium difficulty, and hard difficulty -- have the same solution code and the same examples. We recommend starting with the easy difficulty. Once you get the expected results with the easy difficulty, try again with the medium difficulty. If you want to challenge yourself, try again with the hard difficulty.\n",
    "\n",
    "CUDA is not required to complete most of this assignment, but it is required to execute the final command. Please use AWS to access CUDA available resources by following the recitation."
   ]
  },
  {
   "cell_type": "markdown",
   "metadata": {},
   "source": [
    "<hr style=\"border:2px solid gray\"> </hr>"
   ]
  },
  {
   "cell_type": "code",
   "execution_count": 1,
   "metadata": {},
   "outputs": [],
   "source": [
    "import numpy as np\n",
    "import torch"
   ]
  },
  {
   "cell_type": "markdown",
   "metadata": {},
   "source": [
    "<hr style=\"border:2px solid gray\"> </hr>"
   ]
  },
  {
   "cell_type": "markdown",
   "metadata": {},
   "source": [
    "### Exercise 1"
   ]
  },
  {
   "cell_type": "code",
   "execution_count": 2,
   "metadata": {},
   "outputs": [],
   "source": [
    "X = np.array([2,  3,  4,  5,  6,  7,  8,  9])"
   ]
  },
  {
   "cell_type": "code",
   "execution_count": 3,
   "metadata": {},
   "outputs": [],
   "source": [
    "class ExampleDataset1(torch.utils.data.Dataset):\n",
    "    \n",
    "    def __init__(self, X):\n",
    "        self.X = X\n",
    "        self.length = len(self.X)\n",
    "    def __len__(self):\n",
    "        return self.length\n",
    "\n",
    "    def __getitem__(self, i):\n",
    "        return self.X[i]\n",
    "\n",
    "    def collate_fn(batch):\n",
    "        batch_X = torch.as_tensor(batch)\n",
    "        return batch_X\n",
    "        "
   ]
  },
  {
   "cell_type": "code",
   "execution_count": 4,
   "metadata": {},
   "outputs": [
    {
     "output_type": "stream",
     "name": "stdout",
     "text": [
      "Batch 0 :\n tensor([2, 3]) \n\nBatch 1 :\n tensor([4, 5]) \n\nBatch 2 :\n tensor([6, 7]) \n\nBatch 3 :\n tensor([8, 9]) \n\n"
     ]
    }
   ],
   "source": [
    "dataset1 = ExampleDataset1(X)\n",
    "\n",
    "dataloader1 = torch.utils.data.DataLoader(dataset1,\n",
    "                                          batch_size=2, \n",
    "                                          shuffle=False,\n",
    "                                          collate_fn=ExampleDataset1.collate_fn)\n",
    "\n",
    "for i, batch in enumerate(dataloader1):\n",
    "    print(\"Batch\", i, \":\\n\", batch, \"\\n\")"
   ]
  },
  {
   "cell_type": "markdown",
   "metadata": {},
   "source": [
    "---\n",
    "#### Expected Output:\n",
    "```\n",
    "Batch 0 :\n",
    " tensor([2, 3]) \n",
    "\n",
    "Batch 1 :\n",
    " tensor([4, 5]) \n",
    "\n",
    "Batch 2 :\n",
    " tensor([6, 7]) \n",
    "\n",
    "Batch 3 :\n",
    " tensor([8, 9]) \n",
    "```\n",
    "---"
   ]
  },
  {
   "cell_type": "markdown",
   "metadata": {},
   "source": [
    "<hr style=\"border:2px solid gray\"> </hr>"
   ]
  },
  {
   "cell_type": "markdown",
   "metadata": {},
   "source": [
    "### Exercise 2"
   ]
  },
  {
   "cell_type": "code",
   "execution_count": 5,
   "metadata": {},
   "outputs": [],
   "source": [
    "X = np.array([2,  3,  4,  5,  6,  7,  8,  9])\n",
    "Y = np.array([4,  9, 16, 25, 36, 49, 64, 81])"
   ]
  },
  {
   "cell_type": "code",
   "execution_count": 6,
   "metadata": {},
   "outputs": [],
   "source": [
    "class ExampleDataset2(torch.utils.data.Dataset):\n",
    "    \n",
    "    def __init__(self, X, Y):\n",
    "        self.X = X\n",
    "        self.Y = Y\n",
    "        assert(len(X) == len(Y))\n",
    "        self.length = len(self.X)\n",
    "        \n",
    "    def __len__(self):\n",
    "        return self.length\n",
    "        \n",
    "    def __getitem__(self, i):\n",
    "        return self.X[i], self.Y[i]\n",
    "        \n",
    "    def collate_fn(batch):\n",
    "        # Splitting batch\n",
    "        batch_x = [x for x,y in batch]\n",
    "        batch_y = [y for x,y in batch]\n",
    "        # Converting to tensor\n",
    "        batch_X = torch.as_tensor(batch_x)\n",
    "        batch_Y = torch.as_tensor(batch_y)\n",
    "        # Returning the values\n",
    "        return batch_X,batch_Y\n",
    "\n",
    "        "
   ]
  },
  {
   "cell_type": "code",
   "execution_count": 7,
   "metadata": {},
   "outputs": [
    {
     "output_type": "stream",
     "name": "stdout",
     "text": [
      "Batch 0 :\n (tensor([2, 3]), tensor([4, 9])) \n\nBatch 1 :\n (tensor([4, 5]), tensor([16, 25])) \n\nBatch 2 :\n (tensor([6, 7]), tensor([36, 49])) \n\nBatch 3 :\n (tensor([8, 9]), tensor([64, 81])) \n\n"
     ]
    }
   ],
   "source": [
    "dataset2 = ExampleDataset2(X, Y)\n",
    "\n",
    "dataloader2 = torch.utils.data.DataLoader(dataset2,\n",
    "                                          batch_size=2, \n",
    "                                          shuffle=False,\n",
    "                                          collate_fn=ExampleDataset2.collate_fn)\n",
    "\n",
    "for i, batch in enumerate(dataloader2):\n",
    "    print(\"Batch\", i, \":\\n\", batch, \"\\n\")"
   ]
  },
  {
   "cell_type": "markdown",
   "metadata": {},
   "source": [
    "---\n",
    "#### Expected Output:\n",
    "\n",
    "```\n",
    "Batch 0 :\n",
    " (tensor([2, 3]), tensor([4, 9])) \n",
    "\n",
    "Batch 1 :\n",
    " (tensor([4, 5]), tensor([16, 25])) \n",
    "\n",
    "Batch 2 :\n",
    " (tensor([6, 7]), tensor([36, 49])) \n",
    "\n",
    "Batch 3 :\n",
    " (tensor([8, 9]), tensor([64, 81])) \n",
    "\n",
    "```\n",
    "---"
   ]
  },
  {
   "cell_type": "markdown",
   "metadata": {},
   "source": [
    "<hr style=\"border:2px solid gray\"> </hr>"
   ]
  },
  {
   "cell_type": "markdown",
   "metadata": {},
   "source": [
    "### Example 3"
   ]
  },
  {
   "cell_type": "code",
   "execution_count": 8,
   "metadata": {},
   "outputs": [],
   "source": [
    "X = np.array([ np.array([[ 2,  3,  4],\n",
    "                         [ 4,  6,  8],\n",
    "                         [ 6,  9, 12],\n",
    "                         [ 8, 12, 16]]),\n",
    "               np.array([[10, 15, 20],\n",
    "                         [12, 18, 24]]) ], dtype=object)"
   ]
  },
  {
   "cell_type": "code",
   "execution_count": 9,
   "metadata": {},
   "outputs": [
    {
     "output_type": "stream",
     "name": "stdout",
     "text": [
      "ENUMERATING X 0\n0\n[[ 2  3  4]\n [ 4  6  8]\n [ 6  9 12]\n [ 8 12 16]]\nENUMERATING x\n0\n[2 3 4]\n1\n[4 6 8]\n2\n[ 6  9 12]\n3\n[ 8 12 16]\nENUMERATING X 1\n1\n[[10 15 20]\n [12 18 24]]\nENUMERATING x\n0\n[10 15 20]\n1\n[12 18 24]\n"
     ]
    }
   ],
   "source": [
    "# Checking the dataset:\n",
    "for i,x in enumerate(X):\n",
    "    print(\"ENUMERATING X\", i)\n",
    "    print(i)\n",
    "    print(x)\n",
    "    print(\"ENUMERATING x\")\n",
    "    for j,xx in enumerate(x):\n",
    "        print(j)\n",
    "        print(xx)"
   ]
  },
  {
   "cell_type": "code",
   "execution_count": 10,
   "metadata": {},
   "outputs": [],
   "source": [
    "class ExampleDataset3(torch.utils.data.Dataset):\n",
    "\n",
    "    def __init__(self, X):\n",
    "        ### Assign data to self\n",
    "        self.X = X\n",
    "        ### Define index mapping\n",
    "        index_map_X = [(i,j) for i,x in enumerate(X) for j,xx in enumerate(x)]\n",
    "        ### Assign index mapping to self\n",
    "        self.index_map = index_map_X\n",
    "        ### Assign length to self\n",
    "        self.length = len(self.index_map)\n",
    "        \n",
    "    def __len__(self):\n",
    "        return self.length\n",
    "        \n",
    "    def __getitem__(self, index):\n",
    "        ### Get index pair from index map\n",
    "        i, j = self.index_map[index]\n",
    "        ### Get data at index pair\n",
    "        xx = self.X[i][j,:]\n",
    "        ### Return data\n",
    "        return xx\n",
    "    \n",
    "    def collate_fn(batch):\n",
    "        ### Convert batch to tensor\n",
    "        batch_x = torch.as_tensor(batch)\n",
    "        \n",
    "        ### Return batched data\n",
    "        return batch_x"
   ]
  },
  {
   "source": [
    "dataset3 = ExampleDataset3(X)\n",
    "\n",
    "dataloader3 = torch.utils.data.DataLoader(dataset3,\n",
    "                                          batch_size=3, \n",
    "                                          shuffle=False,\n",
    "                                          collate_fn=ExampleDataset3.collate_fn)\n",
    "\n",
    "for i, batch in enumerate(dataloader3):\n",
    "    print(\"Batch\", i, \":\\n\", batch, \"\\n\")"
   ],
   "cell_type": "code",
   "metadata": {},
   "execution_count": 11,
   "outputs": [
    {
     "output_type": "stream",
     "name": "stdout",
     "text": [
      "Batch 0 :\n tensor([[ 2,  3,  4],\n        [ 4,  6,  8],\n        [ 6,  9, 12]]) \n\nBatch 1 :\n tensor([[ 8, 12, 16],\n        [10, 15, 20],\n        [12, 18, 24]]) \n\n"
     ]
    }
   ]
  },
  {
   "cell_type": "markdown",
   "metadata": {},
   "source": [
    "#### Expected Output\n",
    "\n",
    "```\n",
    "Batch 0 :\n",
    " tensor([[ 2,  3,  4],\n",
    "        [ 4,  6,  8],\n",
    "        [ 6,  9, 12]]) \n",
    "\n",
    "Batch 1 :\n",
    " tensor([[ 8, 12, 16],\n",
    "        [10, 15, 20],\n",
    "        [12, 18, 24]]) \n",
    "```\n",
    "---"
   ]
  },
  {
   "cell_type": "markdown",
   "metadata": {},
   "source": [
    "<hr style=\"border:2px solid gray\"> </hr>"
   ]
  },
  {
   "cell_type": "markdown",
   "metadata": {},
   "source": [
    "### Exercise 4"
   ]
  },
  {
   "cell_type": "code",
   "execution_count": 12,
   "metadata": {},
   "outputs": [],
   "source": [
    "X = np.array([ np.array([[ 2,  3,  4],\n",
    "                         [ 4,  6,  8],\n",
    "                         [ 6,  9, 12],\n",
    "                         [ 8, 12, 16]]),\n",
    "               np.array([[10, 15, 20],\n",
    "                         [12, 18, 24]]) ], dtype=object)\n",
    "\n",
    "Y = np.array([ np.array([1, 2, 3, 4]), \n",
    "               np.array([5, 6])], dtype=object)"
   ]
  },
  {
   "cell_type": "code",
   "execution_count": 13,
   "metadata": {},
   "outputs": [],
   "source": [
    "class ExampleDataset4(torch.utils.data.Dataset):\n",
    "    def __init__(self, X, Y):\n",
    "        self.X = X\n",
    "        self.Y = Y\n",
    "        # Creating Index Map\n",
    "        index_map_X = [(i,j) for i,x in enumerate(X) for j,xx in enumerate(x)]\n",
    "        index_map_Y = [(i,j) for i,y in enumerate(Y) for j,yy in enumerate(y)]\n",
    "        assert(set(index_map_X) == set(index_map_Y))\n",
    "\n",
    "        self.index_map = index_map_X\n",
    "        self.length = len(self.index_map)\n",
    "\n",
    "    def __len__(self):\n",
    "        return self.length\n",
    "\n",
    "    def __getitem__(self, index):\n",
    "        i,j = self.index_map[index]\n",
    "\n",
    "        ### Get data at index pair\n",
    "        xx = self.X[i][j,:]\n",
    "        ### Get label at index pair\n",
    "        yy = self.Y[i][j]\n",
    "        ### Return index pair and label\n",
    "        return xx, yy\n",
    "\n",
    "    def collate_fn(batch):   \n",
    "        batch_x = [x for x,y in batch]\n",
    "        batch_y = [y for x,y in batch]\n",
    "        \n",
    "        ### Convert data and labels to tensors\n",
    "        batch_x = torch.as_tensor(batch_x)\n",
    "        batch_y = torch.as_tensor(batch_y)\n",
    "\n",
    "        ### Return batched data and labels (1 line)\n",
    "        return batch_x, batch_y\n"
   ]
  },
  {
   "cell_type": "code",
   "execution_count": 14,
   "metadata": {},
   "outputs": [
    {
     "output_type": "stream",
     "name": "stdout",
     "text": [
      "Batch 0 :\n (tensor([[ 2,  3,  4],\n        [ 4,  6,  8],\n        [ 6,  9, 12]]), tensor([1, 2, 3])) \n\nBatch 1 :\n (tensor([[ 8, 12, 16],\n        [10, 15, 20],\n        [12, 18, 24]]), tensor([4, 5, 6])) \n\n"
     ]
    }
   ],
   "source": [
    "dataset4 = ExampleDataset4(X, Y)\n",
    "\n",
    "dataloader4 = torch.utils.data.DataLoader(dataset4,\n",
    "                                          batch_size=3, \n",
    "                                          shuffle=False,\n",
    "                                          collate_fn=ExampleDataset4.collate_fn)\n",
    "\n",
    "\n",
    "for i, batch in enumerate(dataloader4):\n",
    "    print(\"Batch\", i, \":\\n\", batch, \"\\n\")"
   ]
  },
  {
   "cell_type": "markdown",
   "metadata": {},
   "source": [
    "---\n",
    "#### Expected Output:\n",
    "\n",
    "```\n",
    "Batch 0 :\n",
    " (tensor([[ 2,  3,  4],\n",
    "        [ 4,  6,  8],\n",
    "        [ 6,  9, 12]]), tensor([1, 2, 3])) \n",
    "\n",
    "Batch 1 :\n",
    " (tensor([[ 8, 12, 16],\n",
    "        [10, 15, 20],\n",
    "        [12, 18, 24]]), tensor([4, 5, 6]))\n",
    "```\n",
    "---"
   ]
  },
  {
   "cell_type": "markdown",
   "metadata": {},
   "source": [
    "<hr style=\"border:2px solid gray\"> </hr>"
   ]
  },
  {
   "cell_type": "markdown",
   "metadata": {},
   "source": [
    "### Exercise 5"
   ]
  },
  {
   "cell_type": "code",
   "execution_count": 21,
   "metadata": {},
   "outputs": [],
   "source": [
    "X = np.array([ np.array([[ 2,  3,  4],\n",
    "                         [ 4,  6,  8],\n",
    "                         [ 6,  9, 12],\n",
    "                         [ 8, 12, 16]]),\n",
    "               np.array([[10, 15, 20],\n",
    "                         [12, 18, 24]]) ], dtype=object)"
   ]
  },
  {
   "cell_type": "code",
   "execution_count": 22,
   "metadata": {},
   "outputs": [
    {
     "output_type": "stream",
     "name": "stdout",
     "text": [
      "0 0\n[2 3 4]\n0 1\n[4 6 8]\n0 2\n[ 6  9 12]\n0 3\n[ 8 12 16]\n1 0\n[10 15 20]\n1 1\n[12 18 24]\n"
     ]
    }
   ],
   "source": [
    "for i,x in enumerate(X):\n",
    "    for j,xx in enumerate(x):\n",
    "        print(i,j)\n",
    "        print(xx)"
   ]
  },
  {
   "cell_type": "code",
   "execution_count": 23,
   "metadata": {},
   "outputs": [],
   "source": [
    "class ExampleDataset5(torch.utils.data.Dataset):\n",
    "    def __init__(self, X, offset=1, context=1):\n",
    "        self.X = X\n",
    "        # Index Map\n",
    "        index_map_X = [(i,j) for i,x in enumerate(X) for (j,xx) in enumerate(x)]\n",
    "        \n",
    "        self.offset = offset\n",
    "        self.context = context\n",
    "        self.index_map = index_map_X\n",
    "        self.length = len(self.index_map)\n",
    "        ### Zero pad data as-needed for context size = 1\n",
    "        for i, x in enumerate(self.X):\n",
    "            self.X[i] = np.pad(x, ((self.context, self.context), (0, 0)), 'constant', constant_values=0)\n",
    "\n",
    "    def __len__(self):\n",
    "        return self.length\n",
    "\n",
    "    def __getitem__(self, index):\n",
    "        i,j = self.index_map[index]\n",
    "\n",
    "        start_j = j + self.offset -self.context\n",
    "        end_j = j + self.offset + self.context + 1\n",
    "\n",
    "        xx = self.X[i][start_j:end_j,:]\n",
    "\n",
    "        return xx\n",
    "\n",
    "    def collate_fn(batch):\n",
    "        batch_x = torch.as_tensor(batch)\n",
    "        return batch_x"
   ]
  },
  {
   "cell_type": "code",
   "execution_count": 24,
   "metadata": {},
   "outputs": [
    {
     "output_type": "stream",
     "name": "stdout",
     "text": [
      "Batch 0 :\n tensor([[[ 0,  0,  0],\n         [ 2,  3,  4],\n         [ 4,  6,  8]],\n\n        [[ 2,  3,  4],\n         [ 4,  6,  8],\n         [ 6,  9, 12]]]) \n\nBatch 1 :\n tensor([[[ 4,  6,  8],\n         [ 6,  9, 12],\n         [ 8, 12, 16]],\n\n        [[ 6,  9, 12],\n         [ 8, 12, 16],\n         [ 0,  0,  0]]]) \n\nBatch 2 :\n tensor([[[ 0,  0,  0],\n         [10, 15, 20],\n         [12, 18, 24]],\n\n        [[10, 15, 20],\n         [12, 18, 24],\n         [ 0,  0,  0]]]) \n\n"
     ]
    }
   ],
   "source": [
    "dataset5 = ExampleDataset5(X)\n",
    "\n",
    "dataloader5 = torch.utils.data.DataLoader(dataset5,\n",
    "                                         batch_size=2, \n",
    "                                         shuffle=False,\n",
    "                                         collate_fn=ExampleDataset5.collate_fn)\n",
    "\n",
    "for i, batch in enumerate(dataloader5):\n",
    "    print(\"Batch\", i, \":\\n\", batch, \"\\n\")"
   ]
  },
  {
   "cell_type": "markdown",
   "metadata": {},
   "source": [
    "---\n",
    "#### Expected Output:\n",
    "\n",
    "```\n",
    "Batch 0 :\n",
    " tensor([[[ 0,  0,  0],\n",
    "         [ 2,  3,  4],\n",
    "         [ 4,  6,  8]],\n",
    "\n",
    "        [[ 2,  3,  4],\n",
    "         [ 4,  6,  8],\n",
    "         [ 6,  9, 12]]]) \n",
    "\n",
    "Batch 1 :\n",
    " tensor([[[ 4,  6,  8],\n",
    "         [ 6,  9, 12],\n",
    "         [ 8, 12, 16]],\n",
    "\n",
    "        [[ 6,  9, 12],\n",
    "         [ 8, 12, 16],\n",
    "         [ 0,  0,  0]]]) \n",
    "\n",
    "Batch 2 :\n",
    " tensor([[[ 0,  0,  0],\n",
    "         [10, 15, 20],\n",
    "         [12, 18, 24]],\n",
    "\n",
    "        [[10, 15, 20],\n",
    "         [12, 18, 24],\n",
    "         [ 0,  0,  0]]]) \n",
    "```\n",
    "---"
   ]
  },
  {
   "cell_type": "markdown",
   "metadata": {},
   "source": [
    "<hr style=\"border:2px solid gray\"> </hr>"
   ]
  },
  {
   "cell_type": "markdown",
   "metadata": {},
   "source": [
    "### Exercise 6"
   ]
  },
  {
   "cell_type": "code",
   "execution_count": 36,
   "metadata": {},
   "outputs": [],
   "source": [
    "X = np.array([ np.array([[ 2,  3,  4],\n",
    "                         [ 4,  6,  8],\n",
    "                         [ 6,  9, 12],\n",
    "                         [ 8, 12, 16]]),\n",
    "               np.array([[10, 15, 20],\n",
    "                         [12, 18, 24]]) ], dtype=object)\n",
    "\n",
    "Y = np.array([ np.array([1, 2, 3, 4]), \n",
    "               np.array([5, 6])], dtype=object)"
   ]
  },
  {
   "cell_type": "code",
   "execution_count": 37,
   "metadata": {},
   "outputs": [],
   "source": [
    "class ExampleDataset6(torch.utils.data.Dataset):\n",
    "    \n",
    "    def __init__(self, X, Y, offset=1, context=1):\n",
    "        self.X = X\n",
    "        self.Y = Y\n",
    "        self.offset = offset\n",
    "        self.context = context\n",
    "\n",
    "        index_map_X = [(i,j) for (i,x) in enumerate(X) for (j,xx) in enumerate(x)]\n",
    "        index_map_Y = [(i,j) for (i,y) in enumerate(Y) for (j,yy) in enumerate(y)]        \n",
    "        \n",
    "        assert(set(index_map_X)==set(index_map_Y))\n",
    "        self.index_map = index_map_X\n",
    "        self.length = len(self.index_map)\n",
    "\n",
    "        for i,x in enumerate(X):\n",
    "            self.X[i] = np.pad(x, ((self.context, self.context), (0,0)), 'constant', constant_values=0)\n",
    "        \n",
    "    def __len__(self):\n",
    "        return self.length\n",
    "\n",
    "    def __getitem__(self, index):\n",
    "        i,j = self.index_map[index]\n",
    "\n",
    "        start_j = j + self.offset - self.context\n",
    "        end_j = j + self.offset + self.context + 1\n",
    "\n",
    "        xx = self.X[i][start_j:end_j,:]\n",
    "        yy = self.Y[i][j]\n",
    "\n",
    "        return xx, yy\n",
    "\n",
    "    def collate_fn(batch):\n",
    "        batch_x = [x for x,y in batch]\n",
    "        batch_y = [y for x,y in batch]\n",
    "        \n",
    "        batch_x = torch.as_tensor(batch_x)\n",
    "        batch_y = torch.as_tensor(batch_y)\n",
    "\n",
    "        return batch_x, batch_y\n",
    "        "
   ]
  },
  {
   "cell_type": "code",
   "execution_count": 38,
   "metadata": {},
   "outputs": [
    {
     "output_type": "stream",
     "name": "stdout",
     "text": [
      "Batch 0 :\n (tensor([[[ 0,  0,  0],\n         [ 2,  3,  4],\n         [ 4,  6,  8]],\n\n        [[ 2,  3,  4],\n         [ 4,  6,  8],\n         [ 6,  9, 12]]]), tensor([1, 2])) \n\nBatch 1 :\n (tensor([[[ 4,  6,  8],\n         [ 6,  9, 12],\n         [ 8, 12, 16]],\n\n        [[ 6,  9, 12],\n         [ 8, 12, 16],\n         [ 0,  0,  0]]]), tensor([3, 4])) \n\nBatch 2 :\n (tensor([[[ 0,  0,  0],\n         [10, 15, 20],\n         [12, 18, 24]],\n\n        [[10, 15, 20],\n         [12, 18, 24],\n         [ 0,  0,  0]]]), tensor([5, 6])) \n\n"
     ]
    }
   ],
   "source": [
    "dataset6 = ExampleDataset6(X, Y)\n",
    "\n",
    "dataloader6 = torch.utils.data.DataLoader(dataset6,\n",
    "                                         batch_size=2, \n",
    "                                         shuffle=False,\n",
    "                                         collate_fn=ExampleDataset6.collate_fn)\n",
    "\n",
    "for i, batch in enumerate(dataloader6):\n",
    "    print(\"Batch\", i, \":\\n\", batch, \"\\n\")"
   ]
  },
  {
   "cell_type": "markdown",
   "metadata": {},
   "source": [
    "---\n",
    "#### Expected Output:\n",
    "```\n",
    "Batch 0 :\n",
    " (tensor([[[ 0,  0,  0],\n",
    "         [ 2,  3,  4],\n",
    "         [ 4,  6,  8]],\n",
    "\n",
    "        [[ 2,  3,  4],\n",
    "         [ 4,  6,  8],\n",
    "         [ 6,  9, 12]]]), tensor([1, 2])) \n",
    "\n",
    "Batch 1 :\n",
    " (tensor([[[ 4,  6,  8],\n",
    "         [ 6,  9, 12],\n",
    "         [ 8, 12, 16]],\n",
    "\n",
    "        [[ 6,  9, 12],\n",
    "         [ 8, 12, 16],\n",
    "         [ 0,  0,  0]]]), tensor([3, 4])) \n",
    "\n",
    "Batch 2 :\n",
    " (tensor([[[ 0,  0,  0],\n",
    "         [10, 15, 20],\n",
    "         [12, 18, 24]],\n",
    "\n",
    "        [[10, 15, 20],\n",
    "         [12, 18, 24],\n",
    "         [ 0,  0,  0]]]), tensor([5, 6])) \n",
    "```\n",
    "---"
   ]
  },
  {
   "cell_type": "markdown",
   "metadata": {},
   "source": [
    "### Exercise 7"
   ]
  },
  {
   "cell_type": "code",
   "execution_count": 39,
   "metadata": {},
   "outputs": [
    {
     "output_type": "stream",
     "name": "stdout",
     "text": [
      "NVIDIA-SMI has failed because it couldn't communicate with the NVIDIA driver. Make sure that the latest NVIDIA driver is installed and running.\n\n"
     ]
    }
   ],
   "source": [
    "!nvidia-smi"
   ]
  },
  {
   "cell_type": "markdown",
   "metadata": {},
   "source": [
    "---\n",
    "#### Expected Output (your result should look similar, but not exactly the same):\n",
    "```\n",
    "+-----------------------------------------------------------------------------+\n",
    "| NVIDIA-SMI 460.27.04    Driver Version: 460.27.04    CUDA Version: 11.2     |\n",
    "|-------------------------------+----------------------+----------------------+\n",
    "| GPU  Name        Persistence-M| Bus-Id        Disp.A | Volatile Uncorr. ECC |\n",
    "| Fan  Temp  Perf  Pwr:Usage/Cap|         Memory-Usage | GPU-Util  Compute M. |\n",
    "|                               |                      |               MIG M. |\n",
    "|===============================+======================+======================|\n",
    "|   0  GeForce RTX 207...  Off  | 00000000:01:00.0 Off |                  N/A |\n",
    "| N/A   40C    P8     9W /  N/A |      5MiB /  7982MiB |      0%      Default |\n",
    "|                               |                      |                  N/A |\n",
    "+-------------------------------+----------------------+----------------------+\n",
    "                                                                               \n",
    "+-----------------------------------------------------------------------------+\n",
    "| Processes:                                                                  |\n",
    "|  GPU   GI   CI        PID   Type   Process name                  GPU Memory |\n",
    "|        ID   ID                                                   Usage      |\n",
    "|=============================================================================|\n",
    "|    0   N/A  N/A       970      G   /usr/lib/xorg/Xorg                  4MiB |\n",
    "+-----------------------------------------------------------------------------+\n",
    "```\n",
    "---"
   ]
  },
  {
   "cell_type": "code",
   "execution_count": null,
   "metadata": {},
   "outputs": [],
   "source": []
  }
 ],
 "metadata": {
  "kernelspec": {
   "name": "python3",
   "display_name": "Python 3.9.1 64-bit",
   "metadata": {
    "interpreter": {
     "hash": "d2152fd7f0bbc62aa1baff8c990435d1e2c7175d001561303988032604c11a48"
    }
   }
  },
  "language_info": {
   "codemirror_mode": {
    "name": "ipython",
    "version": 3
   },
   "file_extension": ".py",
   "mimetype": "text/x-python",
   "name": "python",
   "nbconvert_exporter": "python",
   "pygments_lexer": "ipython3",
   "version": "3.9.1-final"
  }
 },
 "nbformat": 4,
 "nbformat_minor": 4
}