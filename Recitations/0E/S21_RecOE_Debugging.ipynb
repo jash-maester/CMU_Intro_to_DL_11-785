{
  "nbformat": 4,
  "nbformat_minor": 0,
  "metadata": {
    "colab": {
      "name": "S21_RecOE_Debugging.ipynb",
      "provenance": [],
      "collapsed_sections": []
    },
    "kernelspec": {
      "display_name": "Python 3",
      "name": "python3"
    }
  },
  "cells": [
    {
      "cell_type": "markdown",
      "metadata": {
        "id": "s-IJQD6PjbUT"
      },
      "source": [
        "# Recitation OE: Debugging"
      ]
    },
    {
      "cell_type": "markdown",
      "metadata": {
        "id": "a_doazH67o64"
      },
      "source": [
        "# 1. Print debugging"
      ]
    },
    {
      "cell_type": "code",
      "metadata": {
        "colab": {
          "base_uri": "https://localhost:8080/"
        },
        "id": "II6SLuBwKzH9",
        "outputId": "8fa02975-d532-41c0-f955-8179810e6ddc"
      },
      "source": [
        "num = 2\n",
        "curr = 1\n",
        "prev = 0\n",
        "fib = [prev,curr]\n",
        "\n",
        "for i in range(10):\n",
        "  temp = prev\n",
        "  prev = curr\n",
        "  curr = curr + temp\n",
        "  fib.append(curr)\n",
        "  print(\"Term {} of the sequence is: {}\".format(i+2,curr))\n",
        "  assert(fib[-1] == fib[-2] + fib[-3])\n",
        "  \n",
        "print()\n",
        "print(\"The type of curr is {}\".format(type(curr)))\n",
        "print(\"The type of fib is {}\".format(type(fib)))\n",
        "print(\"The size of fib is {}\".format(len(fib)))\n",
        "print()\n",
        "print(fib)\n"
      ],
      "execution_count": 1,
      "outputs": [
        {
          "output_type": "stream",
          "text": [
            "Term 2 of the sequence is: 1\n",
            "Term 3 of the sequence is: 2\n",
            "Term 4 of the sequence is: 3\n",
            "Term 5 of the sequence is: 5\n",
            "Term 6 of the sequence is: 8\n",
            "Term 7 of the sequence is: 13\n",
            "Term 8 of the sequence is: 21\n",
            "Term 9 of the sequence is: 34\n",
            "Term 10 of the sequence is: 55\n",
            "Term 11 of the sequence is: 89\n",
            "\n",
            "The type of curr is <class 'int'>\n",
            "The type of fib is <class 'list'>\n",
            "The size of fib is 12\n",
            "\n",
            "[0, 1, 1, 2, 3, 5, 8, 13, 21, 34, 55, 89]\n"
          ],
          "name": "stdout"
        }
      ]
    },
    {
      "cell_type": "markdown",
      "metadata": {
        "id": "dPmstPEvjghi"
      },
      "source": [
        "# 2. pdb"
      ]
    },
    {
      "cell_type": "code",
      "metadata": {
        "colab": {
          "base_uri": "https://localhost:8080/"
        },
        "id": "854W5YKAPIs4",
        "outputId": "1a574e4e-5512-4c9b-e0a5-bea00232fca4"
      },
      "source": [
        "import pdb\n",
        "\n",
        "num = 2\n",
        "curr = 1\n",
        "prev = 0\n",
        "fib = [prev,curr]\n",
        "\n",
        "for i in range(10):\n",
        "  pdb.set_trace()\n",
        "  temp = prev\n",
        "  prev = curr\n",
        "  curr = curr + temp\n",
        "  fib.append(curr)\n",
        "  "
      ],
      "execution_count": null,
      "outputs": [
        {
          "output_type": "stream",
          "text": [
            "> <ipython-input-2-c726c608adfb>(10)<module>()\n",
            "-> temp = prev\n",
            "(Pdb) num\n",
            "2\n",
            "(Pdb) fib\n",
            "[0, 1]\n",
            "(Pdb) temp\n",
            "34\n",
            "(Pdb) n\n",
            "> <ipython-input-2-c726c608adfb>(11)<module>()\n",
            "-> prev = curr\n",
            "(Pdb) temp\n",
            "0\n",
            "(Pdb) i\n",
            "0\n",
            "(Pdb) c\n",
            "> <ipython-input-2-c726c608adfb>(9)<module>()\n",
            "-> pdb.set_trace()\n",
            "(Pdb) i\n",
            "1\n",
            "(Pdb) c\n",
            "> <ipython-input-2-c726c608adfb>(10)<module>()\n",
            "-> temp = prev\n",
            "(Pdb) i\n",
            "2\n",
            "(Pdb) l\n",
            "  5  \tprev = 0\n",
            "  6  \tfib = [prev,curr]\n",
            "  7  \t\n",
            "  8  \tfor i in range(10):\n",
            "  9  \t  pdb.set_trace()\n",
            " 10  ->\t  temp = prev\n",
            " 11  \t  prev = curr\n",
            " 12  \t  curr = curr + temp\n",
            " 13  \t  fib.append(curr)\n",
            " 14  \t\n",
            "[EOF]\n",
            "(Pdb) help\n",
            "\n",
            "Documented commands (type help <topic>):\n",
            "========================================\n",
            "EOF    c          d        h         list      q        rv       undisplay\n",
            "a      cl         debug    help      ll        quit     s        unt      \n",
            "alias  clear      disable  ignore    longlist  r        source   until    \n",
            "args   commands   display  interact  n         restart  step     up       \n",
            "b      condition  down     j         next      return   tbreak   w        \n",
            "break  cont       enable   jump      p         retval   u        whatis   \n",
            "bt     continue   exit     l         pp        run      unalias  where    \n",
            "\n",
            "Miscellaneous help topics:\n",
            "==========================\n",
            "exec  pdb\n",
            "\n",
            "(Pdb) help c\n",
            "c(ont(inue))\n",
            "        Continue execution, only stop when a breakpoint is encountered.\n"
          ],
          "name": "stdout"
        }
      ]
    },
    {
      "cell_type": "markdown",
      "metadata": {
        "id": "yY2yfAitw5nn"
      },
      "source": [
        "# 3. wandb.ai\n",
        "- https://wandb.ai/site"
      ]
    }
  ]
}